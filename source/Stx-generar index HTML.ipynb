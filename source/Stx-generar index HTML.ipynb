{
 "cells": [
  {
   "cell_type": "code",
   "execution_count": 1,
   "id": "44e00bc6",
   "metadata": {},
   "outputs": [
    {
     "name": "stdout",
     "output_type": "stream",
     "text": [
      "✅ index.html generado correctamente en:\n",
      "C:/Users/mauri/OneDrive - Departamento Nacional de Planeacion/Documentos/DNP-760-2024/Informes/0. Mapas py/output/index.html\n"
     ]
    }
   ],
   "source": [
    "import os\n",
    "from datetime import date\n",
    "\n",
    "# Ruta donde están los archivos HTML (cambia si estás en otro directorio)\n",
    "ruta_mapas = 'C:/Users/mauri/OneDrive - Departamento Nacional de Planeacion/Documentos/DNP-760-2024/Informes/0. Mapas py/output/'\n",
    "\n",
    "# Filtrar solo archivos .html que no sean index.html\n",
    "mapas = [f for f in os.listdir(ruta_mapas) if f.endswith('.html') and f != 'index.html']\n",
    "\n",
    "# Orden alfabético o por fecha\n",
    "mapas.sort()\n",
    "\n",
    "# Encabezado del archivo index\n",
    "html_inicio = f\"\"\"<!DOCTYPE html>\n",
    "<html lang=\"es\">\n",
    "<head>\n",
    "    <meta charset=\"UTF-8\">\n",
    "    <title>Mapas SisPT - GitHub Pages</title>\n",
    "    <style>\n",
    "        body {{ font-family: Arial, sans-serif; margin: 40px; background-color: #f8f9fa; }}\n",
    "        h1 {{ color: #2c3e50; }}\n",
    "        ul {{ list-style-type: none; padding: 0; }}\n",
    "        li {{ margin: 10px 0; }}\n",
    "        a {{ text-decoration: none; color: #007bff; }}\n",
    "        a:hover {{ text-decoration: underline; }}\n",
    "    </style>\n",
    "</head>\n",
    "<body>\n",
    "    <h1>Mapas SisPT por Departamento</h1>\n",
    "    <p>Última actualización: {date.today().strftime('%Y-%m-%d')}</p>\n",
    "    <ul>\n",
    "\"\"\"\n",
    "\n",
    "# Generar la lista de enlaces\n",
    "html_enlaces = \"\"\n",
    "for mapa in mapas:\n",
    "    nombre_limpio = mapa.replace('.html', '').replace('%20', ' ')\n",
    "    html_enlaces += f'        <li><a href=\"{mapa}\" target=\"_blank\">{nombre_limpio}</a></li>\\n'\n",
    "\n",
    "# Cierre del HTML\n",
    "html_final = \"\"\"    </ul>\n",
    "</body>\n",
    "</html>\"\"\"\n",
    "\n",
    "# Guardar como index.html\n",
    "ruta_salida = os.path.join(ruta_mapas, 'index.html')\n",
    "with open(ruta_salida, 'w', encoding='utf-8') as f:\n",
    "    f.write(html_inicio + html_enlaces + html_final)\n",
    "\n",
    "print(f'✅ index.html generado correctamente en:\\n{ruta_salida}')\n"
   ]
  }
 ],
 "metadata": {
  "kernelspec": {
   "display_name": "ent_31015_maps",
   "language": "python",
   "name": "python3"
  },
  "language_info": {
   "codemirror_mode": {
    "name": "ipython",
    "version": 3
   },
   "file_extension": ".py",
   "mimetype": "text/x-python",
   "name": "python",
   "nbconvert_exporter": "python",
   "pygments_lexer": "ipython3",
   "version": "3.10.18"
  }
 },
 "nbformat": 4,
 "nbformat_minor": 5
}
